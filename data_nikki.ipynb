{
 "cells": [
  {
   "cell_type": "code",
   "execution_count": null,
   "metadata": {},
   "outputs": [],
   "source": [
    "import pandas as pd\n",
    "import matplotlib.pyplot as plt\n",
    "long = pd.read_csv('longset_mood_smartphone.csv')\n",
    "long"
   ]
  },
  {
   "attachments": {},
   "cell_type": "markdown",
   "metadata": {},
   "source": [
    "long:\n",
    "- how many records are there\n",
    "- how many attributes\n",
    "- what kinds of attributes are there\n",
    "- ranges of values\n",
    "- distribution of values,\n",
    "- relationships between attributes\n",
    "- missing values"
   ]
  },
  {
   "cell_type": "code",
   "execution_count": null,
   "metadata": {},
   "outputs": [],
   "source": [
    "print(f\"nr. of records: {len(long)}\")\n",
    "print(f\"nr. of attributes: {len(long['variable'].unique())}\")\n",
    "print(f\"the attributes are: {long['variable'].unique()}\")\n",
    "print(f\"The ranges of values for each attribute are: \")\n",
    "print(long.groupby('variable')['value'].describe()[['min', 'max']])\n"
   ]
  },
  {
   "attachments": {},
   "cell_type": "markdown",
   "metadata": {},
   "source": [
    "Range of values: \n",
    "- mood: 1 to 10\n",
    "- arousal/valence: -2 to 2\n",
    "- activity: 0 to 1\n",
    "- call/sms: call or sms made is indicated by 1\n",
    "- screen/builtin/communication/entertainment/finance/game/office/other/social/travel/unknown/utilities/weather: time\n",
    "\n",
    "Note: are the app variables all disjoint?\n",
    "\n",
    "notice how the variables call and sms only have the value 1; are these then redundant. Moreover, variables builttin and entertainment have negative values, which is impossible since it tracks time. These have to be resolved."
   ]
  },
  {
   "cell_type": "code",
   "execution_count": null,
   "metadata": {},
   "outputs": [],
   "source": [
    "# DISTRIBUTIONS OF EACH VARIABLE\n",
    "\n",
    "grouped = long.groupby('variable')['value']\n",
    "for n, g in grouped:\n",
    "    print(n)\n",
    "    plt.hist(g, density=False, bins=100, log=True)\n",
    "    plt.show()"
   ]
  },
  {
   "cell_type": "code",
   "execution_count": null,
   "metadata": {},
   "outputs": [],
   "source": [
    "# NOTE THAT VALUE IS IN SECONDS: 60 = 1 MIN;  3600 = 1 HOUR; 10000 = 2.8 HOURS\n",
    "for var in ['appCat.builtin', 'appCat.entertainment', 'appCat.office', 'appCat.social']:\n",
    "    d = long.loc[(long['variable']==var) ] # & (long['id'] == 'AS14.09')\n",
    "    print(var)\n",
    "    print()\n",
    "    print(d.nlargest(5, 'value'))\n",
    "\n"
   ]
  },
  {
   "attachments": {},
   "cell_type": "markdown",
   "metadata": {},
   "source": [
    "OUTLIERS"
   ]
  },
  {
   "cell_type": "code",
   "execution_count": 1,
   "metadata": {},
   "outputs": [],
   "source": [
    "from functions import load_data, remove_incorrect_values, replace_missing_long, widen_data, iqr, remove_outliers"
   ]
  },
  {
   "cell_type": "code",
   "execution_count": 2,
   "metadata": {},
   "outputs": [],
   "source": [
    "long = load_data()\n",
    "long = remove_incorrect_values(long)\n",
    "long = replace_missing_long(long)"
   ]
  },
  {
   "cell_type": "code",
   "execution_count": 8,
   "metadata": {},
   "outputs": [
    {
     "name": "stdout",
     "output_type": "stream",
     "text": [
      "354917\n",
      "       Unnamed: 0       id                time            variable  value\n",
      "15162       15163  AS14.24 2014-06-05 22:00:00  circumplex.valence    1.0\n",
      "15163       15164  AS14.24 2014-06-06 09:00:00  circumplex.valence    1.0\n",
      "15164       15165  AS14.24 2014-06-06 12:00:00  circumplex.valence    1.0\n",
      "15165       15166  AS14.24 2014-06-06 17:00:00  circumplex.valence    1.0\n",
      "15166       15167  AS14.24 2014-06-06 18:00:00  circumplex.valence    1.0\n",
      "15167       15168  AS14.24 2014-06-07 12:00:00  circumplex.valence    NaN\n",
      "15168       15169  AS14.24 2014-06-08 00:00:00  circumplex.valence    1.0\n",
      "15169       15170  AS14.24 2014-06-08 09:00:00  circumplex.valence    1.0\n",
      "15170       15171  AS14.25 2014-04-08 17:00:00  circumplex.valence    0.0\n",
      "15171       15172  AS14.25 2014-04-08 21:00:00  circumplex.valence    2.0\n",
      "15172       15173  AS14.25 2014-04-09 08:00:00  circumplex.valence    1.0\n"
     ]
    }
   ],
   "source": [
    "print(len(long))\n",
    "long[long['value'].isna()]\n",
    "print(long[(long['variable'] == 'circumplex.valence') & (long['Unnamed: 0'] > 15162) & (long['Unnamed: 0'] < 15174)])"
   ]
  },
  {
   "cell_type": "code",
   "execution_count": 4,
   "metadata": {},
   "outputs": [
    {
     "name": "stdout",
     "output_type": "stream",
     "text": [
      "354917\n"
     ]
    }
   ],
   "source": [
    "# import pandas as pd\n",
    "# for var in long['variable'].unique():\n",
    "#     partial = long.loc[long['variable'] == var]['value']\n",
    "#     if pd.api.types.is_numeric_dtype(partial):\n",
    "#         #print(f\"var: {var}\")\n",
    "#         Q1 = partial.quantile(0.25) \n",
    "#         Q3 = partial.quantile(0.75)\n",
    "#         IQR = Q3 - Q1\n",
    "#         # use 3 for extreme outliers\n",
    "#         lower_bound = Q1 - 3 * IQR\n",
    "#         upper_bound = Q3 + 3 * IQR\n",
    "#         #print(f\"bounds: {lower_bound} and {upper_bound}\")\n",
    "#         long = long[~((long['variable']==var) & ((long['value'] < lower_bound) | (long['value'] > upper_bound)))]\n",
    "\n",
    "long = iqr(long)\n",
    "print(len(long))"
   ]
  }
 ],
 "metadata": {
  "kernelspec": {
   "display_name": "Python 3",
   "language": "python",
   "name": "python3"
  },
  "language_info": {
   "codemirror_mode": {
    "name": "ipython",
    "version": 3
   },
   "file_extension": ".py",
   "mimetype": "text/x-python",
   "name": "python",
   "nbconvert_exporter": "python",
   "pygments_lexer": "ipython3",
   "version": "3.9.13"
  },
  "orig_nbformat": 4
 },
 "nbformat": 4,
 "nbformat_minor": 2
}
